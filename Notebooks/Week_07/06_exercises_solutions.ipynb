{
 "cells": [
  {
   "cell_type": "code",
   "execution_count": null,
   "id": "14766652",
   "metadata": {},
   "outputs": [],
   "source": [
    "# PACKAGES\n",
    "%matplotlib inline\n",
    "import numpy as np\n",
    "import scipy.stats as stats\n",
    "import matplotlib.pyplot as plt\n",
    "import seaborn as sns\n",
    "import random as rd\n",
    "import statistics as st\n",
    "import pandas as pd\n",
    "\n",
    "# SEABORN THEME\n",
    "scale = 0.4\n",
    "W = 16*scale\n",
    "H = 9*scale\n",
    "sns.set(rc = {'figure.figsize':(W,H)})\n",
    "sns.set_style(\"white\")"
   ]
  },
  {
   "cell_type": "markdown",
   "id": "36636897",
   "metadata": {},
   "source": [
    "- At the end of last class we tested \n",
    "<br><br>\n",
    "$$H_0:\\mu=67.5$$\n",
    "<br>\n",
    "$$H_1:\\mu \\neq 67.5$$\n",
    "<br>\n",
    "    with (i) known $\\sigma$ 9.5, (ii) unknown $\\sigma$. We have used test statistics and p values to reject H0 with confidence level 95%. \n",
    "- Exercises:\n",
    "    1. Test \n",
    "<br><br>\n",
    "$$H_0:\\mu=0$$\n",
    "<br>\n",
    "$$H_1:\\mu \\neq 0$$\n",
    "<br>\n",
    "        by computing test statistics and p values manually (as done in class) and for (ii) check that test statistic and p value are the same ones of the ones obtained with scipy.stats.ttest_1samp(a = grades, popmean = mu_null).\n",
    "    2. Do the same test by computing the confidence interval (instead of test statistics and p values) manually and for (ii) check the confidence interval is the same of the one obtained with scipy.stats.t.interval(confidence_level, degrees_freedom, sample_mean, sample_standard_error)."
   ]
  },
  {
   "cell_type": "markdown",
   "id": "575c5cbf",
   "metadata": {},
   "source": [
    "- Solution 1:"
   ]
  },
  {
   "cell_type": "code",
   "execution_count": null,
   "id": "f57ff0da",
   "metadata": {},
   "outputs": [],
   "source": [
    "# get data\n",
    "df = pd.read_csv(\"https://raw.githubusercontent.com/ethanweed/pythonbook/main/Data/zeppo.csv\")\n",
    "df.head()\n",
    "grades = df['grades']\n",
    "\n",
    "# set params\n",
    "sd_true = 9.5\n",
    "mu_null = 0\n",
    "N = len(grades)\n",
    "\n",
    "# get sample mean and sem_true\n",
    "sample_mean = st.mean(grades)\n",
    "sem_1 = sd_true / np.sqrt(N)\n",
    "\n",
    "# get z score\n",
    "z_score_1 = (sample_mean - mu_null) / sem_1\n",
    "\n",
    "# get p value\n",
    "lower_area_1 = st.NormalDist().cdf(-z_score_1)\n",
    "upper_area_1 = lower_area_1\n",
    "p_value_1 = lower_area_1 + upper_area_1\n",
    "\n",
    "# display results\n",
    "(z_score_1, p_value_1)"
   ]
  },
  {
   "cell_type": "code",
   "execution_count": null,
   "id": "4a3ee315",
   "metadata": {},
   "outputs": [],
   "source": [
    "# set params\n",
    "degrees_freedom = N-1\n",
    "\n",
    "# get sample mean, sample variance and sem\n",
    "deviations = (grades - sample_mean)\n",
    "deviations2 = np.square(deviations)\n",
    "S2 = np.sum(deviations2)/degrees_freedom\n",
    "S = np.sqrt(S2)\n",
    "sem_2 = S / np.sqrt(N)\n",
    "\n",
    "# get z score\n",
    "z_score_2 = (sample_mean - mu_null) / sem_2\n",
    "\n",
    "# get p value\n",
    "lower_area_2 = stats.t.cdf(-z_score_2, df = degrees_freedom)\n",
    "upper_area_2 = lower_area_2\n",
    "p_value_2 = lower_area_2 + upper_area_2\n",
    "\n",
    "# display results\n",
    "(z_score_2, p_value_2)"
   ]
  },
  {
   "cell_type": "code",
   "execution_count": null,
   "id": "1e2c3e65",
   "metadata": {},
   "outputs": [],
   "source": [
    "# compare to ttest_1samp\n",
    "z_score_2_autom, p_value_2_autom = stats.ttest_1samp(a = grades, popmean = mu_null)\n",
    "print(z_score_2_autom, p_value_2_autom)\n",
    "z_score_2 == z_score_2_autom, p_value_2 == p_value_2_autom"
   ]
  },
  {
   "cell_type": "markdown",
   "id": "afe43991",
   "metadata": {},
   "source": [
    "- Solution 2:\n",
    "    - Under $H_0$ with $\\mu_0=0$ and known variance:\n",
    "    <br>\n",
    "    $$\\overline{X} - (1.96 \\times SEM) \\leq \\mu_0 \\leq \\overline{X} + (1.96 \\times SEM)$$\n",
    "    <br>\n",
    "    $$\\Rightarrow \\overline{X} - (1.96 \\times SEM) \\leq 0 \\leq \\overline{X} + (1.96 \\times SEM)$$\n",
    "    <br>"
   ]
  },
  {
   "cell_type": "code",
   "execution_count": null,
   "id": "6920661d",
   "metadata": {},
   "outputs": [],
   "source": [
    "a = 1.96\n",
    "ci_1 = (sample_mean-(a*sem_1), sample_mean+(a*sem_1))\n",
    "ci_1"
   ]
  },
  {
   "cell_type": "markdown",
   "id": "25ef45ed",
   "metadata": {},
   "source": [
    "- Under $H_0$ with $\\mu_0=0$ and unknown variance.\n",
    "We need to get the critical values for the areas with cumulative probability $0.025$ and $0.975$. We can do it  for just one of the 2, say $0.975$, as the distribution is symmetric:"
   ]
  },
  {
   "cell_type": "code",
   "execution_count": null,
   "id": "8e6ef737",
   "metadata": {},
   "outputs": [],
   "source": [
    "stats.t.ppf(0.975, degrees_freedom)"
   ]
  },
  {
   "cell_type": "markdown",
   "id": "c00cd9bc",
   "metadata": {},
   "source": [
    "- Under $H_0$ with $\\mu_0=0$, unknown variance and 19 degrees of freedom:\n",
    "    <br>\n",
    "    $$\\overline{X} - (2.09 \\times SEM) \\leq \\mu_0 \\leq \\overline{X} + (2.09 \\times SEM)$$\n",
    "    <br>\n",
    "    $$\\Rightarrow \\overline{X} - (2.09 \\times SEM) \\leq 0 \\leq \\overline{X} + (2.09 \\times SEM)$$\n",
    "    <br>"
   ]
  },
  {
   "cell_type": "code",
   "execution_count": null,
   "id": "998b7868",
   "metadata": {},
   "outputs": [],
   "source": [
    "alpha = 0.05\n",
    "alpha_inv = (1.0-alpha)\n",
    "q1 = (1+alpha_inv)/2\n",
    "a = stats.t.ppf(q1, degrees_freedom)\n",
    "ci_2 = (sample_mean-(a*sem_2), sample_mean+(a*sem_2))\n",
    "ci_2"
   ]
  },
  {
   "cell_type": "code",
   "execution_count": null,
   "id": "140e7a78",
   "metadata": {},
   "outputs": [],
   "source": [
    "ci_2_autom = stats.t.interval(alpha_inv, degrees_freedom, sample_mean, sem_2)\n",
    "print(ci_2_autom)\n",
    "ci_2 == ci_2_autom"
   ]
  },
  {
   "cell_type": "code",
   "execution_count": null,
   "id": "72dfbf47",
   "metadata": {},
   "outputs": [],
   "source": [
    "help(stats.t.interval)"
   ]
  },
  {
   "cell_type": "code",
   "execution_count": null,
   "id": "4654e5cb",
   "metadata": {},
   "outputs": [],
   "source": [
    "?? stats._continuous_distns.t_gen.interval"
   ]
  },
  {
   "cell_type": "code",
   "execution_count": null,
   "id": "6e3e86df",
   "metadata": {},
   "outputs": [],
   "source": []
  }
 ],
 "metadata": {
  "kernelspec": {
   "display_name": "Python 3 (ipykernel)",
   "language": "python",
   "name": "python3"
  },
  "language_info": {
   "codemirror_mode": {
    "name": "ipython",
    "version": 3
   },
   "file_extension": ".py",
   "mimetype": "text/x-python",
   "name": "python",
   "nbconvert_exporter": "python",
   "pygments_lexer": "ipython3",
   "version": "3.9.13"
  }
 },
 "nbformat": 4,
 "nbformat_minor": 5
}
